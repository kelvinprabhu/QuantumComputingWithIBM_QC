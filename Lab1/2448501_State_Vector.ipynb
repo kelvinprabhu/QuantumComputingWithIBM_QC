{
 "cells": [
  {
   "cell_type": "markdown",
   "id": "7856db1e",
   "metadata": {},
   "source": [
    "Defining and displaying state vectors\n",
    "Qiskit uses the Python programming language, Qiskit specifically it may be helpful to very\n",
    "briefly discuss matrix and vector computations in Python. In Python, matrix and vector\n",
    "computations can be performed using the array class from the NumPy library (which\n",
    "includes many additional components for numerical computation).\n",
    "Here is an example of a code cell that defines two vectors, ket0 and ket1 , corresponding\n",
    "to the qubit state vectors ∣0⟩ and ∣1⟩ and displays their average.\n",
    "We can also use array to create matrices that represent operations.\n",
    "Matrix multiplication (including matrix-vector multiplication"
   ]
  },
  {
   "cell_type": "code",
   "execution_count": 5,
   "id": "6333a761",
   "metadata": {},
   "outputs": [
    {
     "data": {
      "text/plain": [
       "array([0.5, 0. ])"
      ]
     },
     "metadata": {},
     "output_type": "display_data"
    },
    {
     "data": {
      "text/plain": [
       "array([0. , 0.5])"
      ]
     },
     "metadata": {},
     "output_type": "display_data"
    }
   ],
   "source": [
    "from numpy import array\n",
    "ket0 = array([1, 0])\n",
    "ket1 = array([0, 1])\n",
    "\n",
    "display(ket0/2, ket1/2)"
   ]
  },
  {
   "cell_type": "code",
   "execution_count": 2,
   "id": "f6973ab1",
   "metadata": {},
   "outputs": [
    {
     "data": {
      "text/plain": [
       "array([[1. , 1. ],\n",
       "       [0.5, 0. ]])"
      ]
     },
     "execution_count": 2,
     "metadata": {},
     "output_type": "execute_result"
    }
   ],
   "source": [
    "M1 = array([[1,1],[0,0]])\n",
    "M2 = array([[1,1],[1,0]])\n",
    "M1 / 2 + M2 / 2\n"
   ]
  },
  {
   "cell_type": "code",
   "execution_count": 6,
   "id": "68467086",
   "metadata": {},
   "outputs": [
    {
     "data": {
      "text/plain": [
       "array([1, 0])"
      ]
     },
     "metadata": {},
     "output_type": "display_data"
    },
    {
     "data": {
      "text/plain": [
       "array([[2, 1],\n",
       "       [0, 0]])"
      ]
     },
     "metadata": {},
     "output_type": "display_data"
    },
    {
     "data": {
      "text/plain": [
       "array([[1, 1],\n",
       "       [1, 1]])"
      ]
     },
     "metadata": {},
     "output_type": "display_data"
    }
   ],
   "source": [
    "from numpy import matmul\n",
    "display(matmul(M1, ket1))\n",
    "display(matmul(M1, M2))\n",
    "display(matmul(M2, M1))\n",
    "\n",
    "\n",
    "\n"
   ]
  },
  {
   "cell_type": "code",
   "execution_count": 9,
   "id": "bbc6ed49",
   "metadata": {},
   "outputs": [
    {
     "name": "stdout",
     "output_type": "stream",
     "text": [
      "statevector u ,v , w have deployed [Statevector([0.70710678+0.j, 0.70710678+0.j],\n",
      "            dims=(2,)), Statevector([ 0.33333333+0.66666667j, -0.66666667+0.j        ],\n",
      "            dims=(2,)), Statevector([0.33333333+0.j, 0.66666667+0.j],\n",
      "            dims=(2,))]\n"
     ]
    }
   ],
   "source": [
    "from qiskit.quantum_info import Statevector\n",
    "from numpy import array, sqrt\n",
    "u = Statevector([1/sqrt(2),1/sqrt(2)])\n",
    "v = Statevector([(1+2.0j)/3,-2/3])\n",
    "w = Statevector([1/3,2/3])\n",
    "print(\"statevector u ,v , w have deployed\",[u,v,w])\n"
   ]
  },
  {
   "cell_type": "code",
   "execution_count": 10,
   "id": "c328dd2f",
   "metadata": {},
   "outputs": [
    {
     "data": {
      "text/latex": [
       "$$\\frac{\\sqrt{2}}{2} |0\\rangle+\\frac{\\sqrt{2}}{2} |1\\rangle$$"
      ],
      "text/plain": [
       "<IPython.core.display.Latex object>"
      ]
     },
     "metadata": {},
     "output_type": "display_data"
    },
    {
     "data": {
      "text/plain": [
       "[ 0.33333333+0.66666667j,-0.66666667+0.j        ]"
      ]
     },
     "metadata": {},
     "output_type": "display_data"
    }
   ],
   "source": [
    "display(u.draw(\"latex\"))\n",
    "display(v.draw(\"text\"))"
   ]
  },
  {
   "cell_type": "code",
   "execution_count": 11,
   "id": "bdc6ea98",
   "metadata": {},
   "outputs": [
    {
     "data": {
      "text/plain": [
       "True"
      ]
     },
     "metadata": {},
     "output_type": "display_data"
    },
    {
     "data": {
      "text/plain": [
       "True"
      ]
     },
     "metadata": {},
     "output_type": "display_data"
    }
   ],
   "source": [
    "display(u.is_valid())\n",
    "display(v.is_valid())"
   ]
  },
  {
   "cell_type": "markdown",
   "id": "386f8cee",
   "metadata": {},
   "source": [
    "Measurements of quantum states can be simulated in Qiskit, using the measure method\n",
    "from the State vector class. Running the measure method simulates a standard basis\n",
    "measurement. It returns the result of that measurement, plus the new quantum state of\n",
    "our system after that measurement. Measurement outcomes are probabilistic, so the\n",
    "same method can return diNerent results. Try running the cell a few times to see this. As\n",
    "an aside, State vector will throw an error if the measure method is applied to an invalid\n",
    "quantum state vector."
   ]
  },
  {
   "cell_type": "code",
   "execution_count": null,
   "id": "5a21f63d",
   "metadata": {},
   "outputs": [
    {
     "data": {
      "text/plain": [
       "(<IPython.core.display.Latex object>,\n",
       " (np.str_('0'),\n",
       "  Statevector([0.4472136+0.89442719j, 0.       +0.j        ],\n",
       "              dims=(2,))))"
      ]
     },
     "execution_count": 16,
     "metadata": {},
     "output_type": "execute_result"
    }
   ],
   "source": [
    "v = Statevector([(1+2.0j)/3,-2/3])\n",
    "v.draw(\"latex\")"
   ]
  },
  {
   "cell_type": "code",
   "execution_count": 17,
   "id": "9b5dfb18",
   "metadata": {},
   "outputs": [
    {
     "name": "stdout",
     "output_type": "stream",
     "text": [
      "<IPython.core.display.Latex object>\n",
      "(np.str_('1'), Statevector([ 0.+0.j, -1.+0.j],\n",
      "            dims=(2,)))\n"
     ]
    }
   ],
   "source": [
    "v = Statevector([(1+2.0j)/3,-2/3])\n",
    "print(v.draw(\"latex\"))\n",
    "print(v.measure())"
   ]
  },
  {
   "cell_type": "code",
   "execution_count": 19,
   "id": "ad0732d0",
   "metadata": {},
   "outputs": [
    {
     "data": {
      "text/plain": [
       "{np.str_('0'): np.int64(604), np.str_('1'): np.int64(396)}"
      ]
     },
     "metadata": {},
     "output_type": "display_data"
    },
    {
     "data": {
      "image/png": "[encoded data removed]",
      "text/plain": [
       "<Figure size 640x480 with 1 Axes>"
      ]
     },
     "execution_count": 19,
     "metadata": {},
     "output_type": "execute_result"
    }
   ],
   "source": [
    "from qiskit.visualization import plot_histogram\n",
    "stats = v.sample_counts(1000)\n",
    "display(stats)\n",
    "plot_histogram(stats)"
   ]
  },
  {
   "cell_type": "code",
   "execution_count": null,
   "id": "a79abbf7",
   "metadata": {},
   "outputs": [],
   "source": []
  }
 ],
 "metadata": {
  "kernelspec": {
   "display_name": "quantum_env",
   "language": "python",
   "name": "python3"
  },
  "language_info": {
   "codemirror_mode": {
    "name": "ipython",
    "version": 3
   },
   "file_extension": ".py",
   "mimetype": "text/x-python",
   "name": "python",
   "nbconvert_exporter": "python",
   "pygments_lexer": "ipython3",
   "version": "3.12.11"
  }
 },
 "nbformat": 4,
 "nbformat_minor": 5
}
